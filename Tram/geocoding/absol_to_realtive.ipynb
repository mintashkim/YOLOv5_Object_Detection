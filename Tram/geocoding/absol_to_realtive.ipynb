{
 "cells": [
  {
   "cell_type": "code",
   "execution_count": 1,
   "metadata": {},
   "outputs": [],
   "source": [
    "import pandas as pd\n",
    "import numpy as np\n",
    "import matplotlib.pyplot as plt\n",
    "import folium\n",
    "import warnings\n",
    "warnings.filterwarnings('ignore')"
   ]
  },
  {
   "cell_type": "code",
   "execution_count": 2,
   "metadata": {},
   "outputs": [],
   "source": [
    "line = pd.read_csv('tram/트램선로(상대).csv')\n",
    "new_line = pd.read_csv('tram/new_line(상대).csv')"
   ]
  },
  {
   "cell_type": "code",
   "execution_count": 3,
   "metadata": {},
   "outputs": [
    {
     "data": {
      "text/html": [
       "<div>\n",
       "<style scoped>\n",
       "    .dataframe tbody tr th:only-of-type {\n",
       "        vertical-align: middle;\n",
       "    }\n",
       "\n",
       "    .dataframe tbody tr th {\n",
       "        vertical-align: top;\n",
       "    }\n",
       "\n",
       "    .dataframe thead th {\n",
       "        text-align: right;\n",
       "    }\n",
       "</style>\n",
       "<table border=\"1\" class=\"dataframe\">\n",
       "  <thead>\n",
       "    <tr style=\"text-align: right;\">\n",
       "      <th></th>\n",
       "      <th>E</th>\n",
       "      <th>N</th>\n",
       "      <th>X</th>\n",
       "      <th>Y</th>\n",
       "    </tr>\n",
       "  </thead>\n",
       "  <tbody>\n",
       "    <tr>\n",
       "      <th>0</th>\n",
       "      <td>227333.3193</td>\n",
       "      <td>448983.2783</td>\n",
       "      <td>0.0000</td>\n",
       "      <td>0.0000</td>\n",
       "    </tr>\n",
       "    <tr>\n",
       "      <th>1</th>\n",
       "      <td>227339.0309</td>\n",
       "      <td>448986.8473</td>\n",
       "      <td>5.7116</td>\n",
       "      <td>3.5690</td>\n",
       "    </tr>\n",
       "    <tr>\n",
       "      <th>2</th>\n",
       "      <td>227339.6558</td>\n",
       "      <td>448987.1821</td>\n",
       "      <td>6.3365</td>\n",
       "      <td>3.9038</td>\n",
       "    </tr>\n",
       "    <tr>\n",
       "      <th>3</th>\n",
       "      <td>227340.5482</td>\n",
       "      <td>448987.7398</td>\n",
       "      <td>7.2289</td>\n",
       "      <td>4.4615</td>\n",
       "    </tr>\n",
       "    <tr>\n",
       "      <th>4</th>\n",
       "      <td>227341.6195</td>\n",
       "      <td>448988.2980</td>\n",
       "      <td>8.3002</td>\n",
       "      <td>5.0197</td>\n",
       "    </tr>\n",
       "  </tbody>\n",
       "</table>\n",
       "</div>"
      ],
      "text/plain": [
       "             E            N       X       Y\n",
       "0  227333.3193  448983.2783  0.0000  0.0000\n",
       "1  227339.0309  448986.8473  5.7116  3.5690\n",
       "2  227339.6558  448987.1821  6.3365  3.9038\n",
       "3  227340.5482  448987.7398  7.2289  4.4615\n",
       "4  227341.6195  448988.2980  8.3002  5.0197"
      ]
     },
     "execution_count": 3,
     "metadata": {},
     "output_type": "execute_result"
    }
   ],
   "source": [
    "line.head()"
   ]
  },
  {
   "cell_type": "code",
   "execution_count": 4,
   "metadata": {},
   "outputs": [],
   "source": [
    "x,y = line['E'].iloc[0],line['N'].iloc[0]"
   ]
  },
  {
   "cell_type": "code",
   "execution_count": 5,
   "metadata": {},
   "outputs": [],
   "source": [
    "line['X'] = line['E'] - x\n",
    "line['Y'] = line['N'] - y"
   ]
  },
  {
   "cell_type": "code",
   "execution_count": 6,
   "metadata": {},
   "outputs": [],
   "source": [
    "#line.to_csv('tram/트램선로(상대).csv',index=False)"
   ]
  },
  {
   "cell_type": "code",
   "execution_count": 7,
   "metadata": {},
   "outputs": [],
   "source": [
    "new_line['X'] = new_line['E'] - x\n",
    "new_line['Y'] = new_line['N'] - y"
   ]
  },
  {
   "cell_type": "code",
   "execution_count": 8,
   "metadata": {},
   "outputs": [],
   "source": [
    "#new_line.to_csv('tram/new_line(상대).csv',index=False)"
   ]
  },
  {
   "cell_type": "code",
   "execution_count": 9,
   "metadata": {},
   "outputs": [],
   "source": [
    "sample = pd.read_excel('tram/per_meter_points(상대).xlsx',sheet_name = 'autotramMap')\n",
    "x1 = pd.read_excel('tram/per_meter_points(상대).xlsx',sheet_name = 'x1',index=False)\n",
    "x2 = pd.read_excel('tram/per_meter_points(상대).xlsx',sheet_name = 'x2',index=False)\n",
    "x3_1 = pd.read_excel('tram/per_meter_points(상대).xlsx',sheet_name = 'x3-1',index=False)\n",
    "x3_2 = pd.read_excel('tram/per_meter_points(상대).xlsx',sheet_name = 'x3-2',index=False)\n",
    "x2x3 = pd.read_excel('tram/per_meter_points(상대).xlsx',sheet_name = 'x2-x3',index=False)"
   ]
  },
  {
   "cell_type": "code",
   "execution_count": 10,
   "metadata": {},
   "outputs": [],
   "source": [
    "sample['X'] = sample['E'] - x\n",
    "sample['Y'] = sample['N'] - y\n",
    "\n",
    "x1['X'] = x1['E'] - x\n",
    "x1['Y'] = x1['N'] - y\n",
    "x2['X'] =x2['E'] - x\n",
    "x2['Y'] = x2['N'] - y\n",
    "x3_1['X'] = x3_1['E'] - x\n",
    "x3_1['Y'] = x3_1['N'] - y\n",
    "x3_2['X'] = x3_2['E'] - x\n",
    "x3_2['Y'] = x3_2['N'] - y\n",
    "x2x3['X'] = x2x3['E'] - x\n",
    "x2x3['Y'] = x2x3['N'] - y"
   ]
  },
  {
   "cell_type": "code",
   "execution_count": 11,
   "metadata": {},
   "outputs": [],
   "source": [
    "with pd.ExcelWriter('tram/per_meter_points(상대).xlsx') as writer:\n",
    "    sample.to_excel(writer,sheet_name = 'autotramMap')\n",
    "    x1.to_excel(writer,sheet_name = 'x1')\n",
    "    x2.to_excel(writer,sheet_name = 'x2')\n",
    "    x3_1.to_excel(writer,sheet_name = 'x3-1')\n",
    "    x3_2.to_excel(writer,sheet_name = 'x3-2')\n",
    "    x2x3.to_excel(writer,sheet_name = 'x2-x3')"
   ]
  },
  {
   "cell_type": "code",
   "execution_count": 33,
   "metadata": {},
   "outputs": [],
   "source": [
    "new_line_divide = pd.read_csv('tram/new_line_divide(상대).csv')"
   ]
  },
  {
   "cell_type": "code",
   "execution_count": 34,
   "metadata": {},
   "outputs": [],
   "source": [
    "new_line_divide['X'] = new_line_divide['E'] - x\n",
    "new_line_divide['Y'] = new_line_divide['N'] - y"
   ]
  },
  {
   "cell_type": "code",
   "execution_count": 35,
   "metadata": {},
   "outputs": [],
   "source": [
    "new_line_divide.to_csv('tram/new_line_divide(상대).csv',index=False)"
   ]
  },
  {
   "cell_type": "code",
   "execution_count": 15,
   "metadata": {},
   "outputs": [],
   "source": [
    "autotram = pd.read_excel('Autotram_Map(상대).xlsx')"
   ]
  },
  {
   "cell_type": "code",
   "execution_count": 16,
   "metadata": {},
   "outputs": [],
   "source": [
    "autotram['X'] = autotram['E'] - x\n",
    "autotram['Y'] = autotram['N'] - y"
   ]
  },
  {
   "cell_type": "code",
   "execution_count": 17,
   "metadata": {},
   "outputs": [],
   "source": [
    "autotram.to_excel('Autotram_Map(상대).xlsx',index=False)"
   ]
  }
 ],
 "metadata": {
  "kernelspec": {
   "display_name": "Python 3",
   "language": "python",
   "name": "python3"
  },
  "language_info": {
   "codemirror_mode": {
    "name": "ipython",
    "version": 3
   },
   "file_extension": ".py",
   "mimetype": "text/x-python",
   "name": "python",
   "nbconvert_exporter": "python",
   "pygments_lexer": "ipython3",
   "version": "3.8.3"
  }
 },
 "nbformat": 4,
 "nbformat_minor": 4
}
